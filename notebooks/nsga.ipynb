{
 "cells": [
  {
   "cell_type": "markdown",
   "id": "349228c2",
   "metadata": {
    "vscode": {
     "languageId": "markdown"
    }
   },
   "source": [
    "# NSGA-II (Non-dominated Sorting Genetic Algorithm II)\n",
    "\n",
    "NSGA-2 is apopular multi-objective optimization algorithm. It is widely used for solving problems with multiple conflicting objectives. The algorithm incorporates mechanisms for maintaining diversity in the population while converging toward the Pareto-optimal front."
   ]
  },
  {
   "cell_type": "code",
   "execution_count": null,
   "id": "b61a3742-85e3-4950-ab7d-06828556bc54",
   "metadata": {},
   "outputs": [],
   "source": [
    "import pandas as pd\n",
    "import numpy as np\n",
    "import matplotlib.pyplot as plt\n",
    "\n",
    "from nsga_2.algo import (\n",
    "    create_population, objective, assign_fronts, calculate_crowding_distance, \n",
    "    tournament_select, sbx_crossover, polynomial_mutation,\n",
    "    generate_offspring, flatten_fronts\n",
    ")"
   ]
  },
  {
   "cell_type": "markdown",
   "id": "f5a54b42-29ef-44f7-8d1d-190e305d4cc1",
   "metadata": {},
   "source": [
    "## Parameters"
   ]
  },
  {
   "cell_type": "code",
   "execution_count": null,
   "id": "06983693-7110-48dd-ab1e-104ceb191160",
   "metadata": {},
   "outputs": [],
   "source": [
    "MAX_VALUE = 5\n",
    "BOUNDS = (-MAX_VALUE, MAX_VALUE)\n",
    "N_POP = 10\n",
    "N_GENS = 10"
   ]
  },
  {
   "cell_type": "markdown",
   "id": "f71e0f36-c888-4275-a377-a4bcee8cf5dd",
   "metadata": {},
   "source": [
    "## Objectives"
   ]
  },
  {
   "cell_type": "code",
   "execution_count": null,
   "id": "08d50a28-dae0-465c-8ed0-1d4cb91a5022",
   "metadata": {},
   "outputs": [],
   "source": [
    "f1 = lambda x: x ** 2\n",
    "f2 = lambda x: (x - 2) ** 2"
   ]
  },
  {
   "cell_type": "markdown",
   "id": "99a7858d-a231-4ecb-a05b-25683dd32c26",
   "metadata": {},
   "source": [
    "## Core Loop"
   ]
  },
  {
   "cell_type": "code",
   "execution_count": null,
   "id": "304f63c8-d184-4f6c-85fd-65c7eebdcec3",
   "metadata": {},
   "outputs": [],
   "source": [
    "p = create_population(N_POP, BOUNDS)"
   ]
  },
  {
   "cell_type": "code",
   "execution_count": null,
   "id": "91a2a149-d089-4b2d-afce-8a6fb43d810b",
   "metadata": {},
   "outputs": [],
   "source": [
    "# project population into objective space and plot results\n",
    "\n",
    "p_obj = objective(p, (f1, f2))\n",
    "\n",
    "# plotting\n",
    "fig, ax = plt.subplots(figsize=(8, 5))\n",
    "plt.scatter(x=p_obj[:, 0], y=p_obj[:, 1])\n",
    "ax.set(title=\"Initial population [objective space]\", xlabel=\"$f_1(x)$\", ylabel=\"$f_2(x)$\")"
   ]
  },
  {
   "cell_type": "code",
   "execution_count": null,
   "id": "9e5327c6-7cb0-4b6f-87a4-9ae1857e9788",
   "metadata": {},
   "outputs": [],
   "source": [
    "for gen in range(N_GENS):\n",
    "    print(f\"Generation: {gen}\")\n",
    "    \n",
    "    p_obj = objective(p, (f1, f2))\n",
    "\n",
    "    # plotting\n",
    "    fig, ax = plt.subplots(figsize=(8, 5))\n",
    "    plt.scatter(x=p_obj[:, 0], y=p_obj[:, 1])\n",
    "    ax.set(title=f\"Generation {gen}\", xlabel=\"$f_1(x)$\", ylabel=\"$f_2(x)$\")\n",
    "    plt.savefig(f\"../figures/frames/gen_{gen}.png\")\n",
    "    plt.close()\n",
    "\n",
    "    fronts = assign_fronts(p_obj)\n",
    "\n",
    "    crowding_distances = calculate_crowding_distance(p_obj)\n",
    "\n",
    "    Q = generate_offspring(p_obj, p, fronts, crowding_distances, BOUNDS)\n",
    "\n",
    "    R = np.vstack((p, Q))\n",
    "    assert R.shape[0] == 2 * N_POP\n",
    "\n",
    "    r_obj = objective(R, (f1, f2))\n",
    "    r_fronts = assign_fronts(r_obj)\n",
    "    r_crowding_distances = calculate_crowding_distance(r_obj)\n",
    "\n",
    "    r_combined = np.column_stack((R.reshape(-1), flatten_fronts(r_obj, r_fronts), r_crowding_distances))\n",
    "    sorted_indices = np.lexsort((r_combined[:, -2], -r_combined[:, -1]))\n",
    "    r_combined = r_combined[sorted_indices]\n",
    "    r_combined = r_combined[:N_POP, :]\n",
    "    p = r_combined[:, :p.shape[1]]\n",
    "    "
   ]
  }
 ],
 "metadata": {
  "kernelspec": {
   "display_name": "Python 3 (ipykernel)",
   "language": "python",
   "name": "python3"
  },
  "language_info": {
   "codemirror_mode": {
    "name": "ipython",
    "version": 3
   },
   "file_extension": ".py",
   "mimetype": "text/x-python",
   "name": "python",
   "nbconvert_exporter": "python",
   "pygments_lexer": "ipython3",
   "version": "3.13.0"
  }
 },
 "nbformat": 4,
 "nbformat_minor": 5
}
